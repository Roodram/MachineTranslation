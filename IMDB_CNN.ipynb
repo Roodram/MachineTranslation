{
 "cells": [
  {
   "cell_type": "code",
   "execution_count": 2,
   "metadata": {},
   "outputs": [],
   "source": [
    "import keras\n",
    "from keras.datasets import imdb\n",
    "import numpy as np\n",
    "import nltk\n",
    "from nltk.stem.lancaster import LancasterStemmer\n",
    "import json\n",
    "import string\n",
    "from nltk.tokenize import word_tokenize\n",
    "from nltk.corpus import stopwords\n",
    "from nltk.stem.porter import PorterStemmer\n",
    "from nltk.stem import WordNetLemmatizer\n",
    "import csv\n",
    "import pandas as pd\n",
    "import re\n",
    "from sklearn.model_selection import train_test_split\n",
    "from keras.preprocessing import sequence"
   ]
  },
  {
   "cell_type": "code",
   "execution_count": 3,
   "metadata": {},
   "outputs": [],
   "source": [
    "imdb_path = \"/media/roodram/72F8C754F8C7156F/ACM/Project/DataSets/imdb.npz\"\n",
    "(x_train, y_train), (x_test, y_test)= imdb.load_data(path = imdb_path, maxlen=2000, num_words=50000)"
   ]
  },
  {
   "cell_type": "code",
   "execution_count": 4,
   "metadata": {},
   "outputs": [
    {
     "name": "stdout",
     "output_type": "stream",
     "text": [
      "(49996,)\n",
      "(49996,)\n"
     ]
    }
   ],
   "source": [
    "x = np.concatenate((x1,x2), axis=0)\n",
    "y = np.concatenate((y1,y2), axis=0)\n",
    "print(x.shape)\n",
    "print(y.shape)\n"
   ]
  },
  {
   "cell_type": "code",
   "execution_count": 5,
   "metadata": {},
   "outputs": [
    {
     "name": "stdout",
     "output_type": "stream",
     "text": [
      "49999\n",
      "1854\n"
     ]
    }
   ],
   "source": [
    "num_words=0\n",
    "maxlen=0\n",
    "for i in range(x.shape[0]):\n",
    "    #print(i)\n",
    "    l = len(x[i])\n",
    "    maxlen = max(maxlen, l)\n",
    "    num_words = max(num_words, max(x[i]))\n",
    "    \n",
    "print(num_words)\n",
    "print(maxlen)"
   ]
  },
  {
   "cell_type": "code",
   "execution_count": 6,
   "metadata": {},
   "outputs": [
    {
     "name": "stdout",
     "output_type": "stream",
     "text": [
      "<class 'list'>\n"
     ]
    }
   ],
   "source": [
    "print(type(x1[0]))\n",
    "maxlen=2000\n",
    "num_words=50000"
   ]
  },
  {
   "cell_type": "code",
   "execution_count": 20,
   "metadata": {},
   "outputs": [
    {
     "name": "stdout",
     "output_type": "stream",
     "text": [
      "(39996, 2000)\n",
      "(39996,)\n",
      "2000\n"
     ]
    }
   ],
   "source": [
    "x = sequence.pad_sequences(x, maxlen=maxlen)\n",
    "print(x_train.shape)\n",
    "print(y_train.shape)\n",
    "print(len(x[0]))"
   ]
  },
  {
   "cell_type": "code",
   "execution_count": 32,
   "metadata": {},
   "outputs": [],
   "source": [
    "from keras.models import Model\n",
    "from keras.layers import Dense, Embedding, RNN, Input, Dropout, LSTM, Activation, Conv1D, MaxPooling1D, BatchNormalization\n",
    "from keras.utils import to_categorical\n",
    "from keras.optimizers import Adam"
   ]
  },
  {
   "cell_type": "code",
   "execution_count": 33,
   "metadata": {},
   "outputs": [],
   "source": [
    "def CNN_Model_Keras(maxlen, num_words):\n",
    "    inputs = Input((maxlen,), dtype=np.float32)\n",
    "    X = Embedding(num_words, 64, input_length=maxlen)(inputs)\n",
    "    X = Conv1D(64, 8, padding='valid', activation='tanh')(X)\n",
    "    X = BatchNormalization(axis=2)(X)\n",
    "    X = MaxPooling1D(3)(X)\n",
    "    X = Dropout(0.25)(X)\n",
    "    X = LSTM(64)(X)\n",
    "    X = Dropout(0.25)(X)\n",
    "    X = Dense(1, activation='sigmoid')(X)\n",
    "    model = Model(inputs=inputs, outputs=X)\n",
    "    return model"
   ]
  },
  {
   "cell_type": "code",
   "execution_count": 34,
   "metadata": {},
   "outputs": [
    {
     "name": "stdout",
     "output_type": "stream",
     "text": [
      "_________________________________________________________________\n",
      "Layer (type)                 Output Shape              Param #   \n",
      "=================================================================\n",
      "input_6 (InputLayer)         (None, 2000)              0         \n",
      "_________________________________________________________________\n",
      "embedding_6 (Embedding)      (None, 2000, 64)          3200000   \n",
      "_________________________________________________________________\n",
      "conv1d_6 (Conv1D)            (None, 1993, 64)          32832     \n",
      "_________________________________________________________________\n",
      "batch_normalization_1 (Batch (None, 1993, 64)          256       \n",
      "_________________________________________________________________\n",
      "max_pooling1d_5 (MaxPooling1 (None, 664, 64)           0         \n",
      "_________________________________________________________________\n",
      "dropout_1 (Dropout)          (None, 664, 64)           0         \n",
      "_________________________________________________________________\n",
      "lstm_4 (LSTM)                (None, 64)                33024     \n",
      "_________________________________________________________________\n",
      "dropout_2 (Dropout)          (None, 64)                0         \n",
      "_________________________________________________________________\n",
      "dense_4 (Dense)              (None, 1)                 65        \n",
      "=================================================================\n",
      "Total params: 3,266,177\n",
      "Trainable params: 3,266,049\n",
      "Non-trainable params: 128\n",
      "_________________________________________________________________\n"
     ]
    }
   ],
   "source": [
    "model = CNN_Model_Keras(maxlen, num_words)\n",
    "model.summary()"
   ]
  },
  {
   "cell_type": "code",
   "execution_count": 35,
   "metadata": {},
   "outputs": [],
   "source": [
    "model.compile(loss='binary_crossentropy', optimizer='adam', metrics=['accuracy'])"
   ]
  },
  {
   "cell_type": "code",
   "execution_count": 42,
   "metadata": {},
   "outputs": [
    {
     "name": "stdout",
     "output_type": "stream",
     "text": [
      "Epoch 1/1\n",
      "39996/39996 [==============================] - 1822s 46ms/step - loss: 0.1175 - acc: 0.9600\n"
     ]
    },
    {
     "data": {
      "text/plain": [
       "<keras.callbacks.History at 0x7f428c356198>"
      ]
     },
     "execution_count": 42,
     "metadata": {},
     "output_type": "execute_result"
    }
   ],
   "source": [
    "model.fit(x_train, y_train, epochs = 1, batch_size = 15, shuffle=True)"
   ]
  },
  {
   "cell_type": "code",
   "execution_count": 25,
   "metadata": {},
   "outputs": [],
   "source": [
    "from keras.models import model_from_json"
   ]
  },
  {
   "cell_type": "code",
   "execution_count": 41,
   "metadata": {},
   "outputs": [],
   "source": [
    "model_file = 'Models/imdb_cnn_e2.json'\n",
    "json_model = model.to_json()\n",
    "with open(model_file, 'w') as file:\n",
    "    file.write(json_model)\n",
    "    \n",
    "weights_file = 'Models/imdb_cnn_e2.h5'\n",
    "model.save_weights(weights_file)"
   ]
  },
  {
   "cell_type": "code",
   "execution_count": 43,
   "metadata": {},
   "outputs": [
    {
     "name": "stdout",
     "output_type": "stream",
     "text": [
      "10000/10000 [==============================] - 90s 9ms/step\n",
      "0.31315985962748527\n",
      "0.8914\n"
     ]
    }
   ],
   "source": [
    "loss, acc = model.evaluate(x_test, y_test)\n",
    "print(loss)\n",
    "print(acc)"
   ]
  },
  {
   "cell_type": "code",
   "execution_count": null,
   "metadata": {},
   "outputs": [],
   "source": []
  }
 ],
 "metadata": {
  "kernelspec": {
   "display_name": "Python 3",
   "language": "python",
   "name": "python3"
  },
  "language_info": {
   "codemirror_mode": {
    "name": "ipython",
    "version": 3
   },
   "file_extension": ".py",
   "mimetype": "text/x-python",
   "name": "python",
   "nbconvert_exporter": "python",
   "pygments_lexer": "ipython3",
   "version": "3.6.7"
  }
 },
 "nbformat": 4,
 "nbformat_minor": 2
}
