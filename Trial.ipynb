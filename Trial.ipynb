{
 "cells": [
  {
   "cell_type": "code",
   "execution_count": 1,
   "metadata": {},
   "outputs": [],
   "source": [
    "import numpy as np\n",
    "import nltk\n",
    "from nltk.stem.lancaster import LancasterStemmer\n",
    "import json\n",
    "import string\n",
    "from nltk.tokenize import word_tokenize\n",
    "from nltk.corpus import stopwords\n",
    "from nltk.stem.porter import PorterStemmer\n",
    "from nltk.stem import WordNetLemmatizer\n",
    "import csv\n",
    "import pandas as pd"
   ]
  },
  {
   "cell_type": "code",
   "execution_count": 2,
   "metadata": {},
   "outputs": [
    {
     "name": "stderr",
     "output_type": "stream",
     "text": [
      "/usr/local/lib/python3.6/dist-packages/h5py/__init__.py:36: FutureWarning: Conversion of the second argument of issubdtype from `float` to `np.floating` is deprecated. In future, it will be treated as `np.float64 == np.dtype(float).type`.\n",
      "  from ._conv import register_converters as _register_converters\n",
      "Using TensorFlow backend.\n"
     ]
    }
   ],
   "source": [
    "from keras.models import Model\n",
    "from keras.layers import Dense, RNN, Input, Dropout, LSTM, Activation\n",
    "from keras.layers.embeddings import Embedding\n",
    "from keras.preprocessing import sequence\n",
    "from keras.initializers import glorot_uniform\n",
    "from keras.utils import to_categorical"
   ]
  },
  {
   "cell_type": "code",
   "execution_count": 3,
   "metadata": {},
   "outputs": [],
   "source": [
    "def json_to_data(jsonfile, csvfile):\n",
    "    file = open(jsonfile)\n",
    "    data = json.load(file)\n",
    "    \n",
    "    f = csv.writer(open(csvfile, 'w'))\n",
    "    f.writerow([\"emotion\",\"utterance\"])\n",
    "    \n",
    "    for item in data:\n",
    "        for line in item:\n",
    "            f.writerow([line['emotion'],line['utterance']])\n",
    "       "
   ]
  },
  {
   "cell_type": "code",
   "execution_count": 26,
   "metadata": {},
   "outputs": [],
   "source": [
    "stop_words = set(stopwords.words('english'))\n",
    "stemmer = PorterStemmer()\n",
    "lemmatizer = WordNetLemmatizer()\n",
    "#regex = re.compile('[^a-zA-Z\\' ]')\n",
    "\n",
    "def cleaner(string):\n",
    "    #string = regex.sub('',string)\n",
    "    string = string.translate({ord(i): None for i in '!.,&%#@?;\\\\'})\n",
    "    string = string.replace('-', ' ')\n",
    "    try:\n",
    "        w = string.lower().split()\n",
    "    except:\n",
    "        return \"NAW\"\n",
    "    w = [p.lower() for p in w]\n",
    "    \n",
    "    #w = [lemmatizer.lemmatize(word) for word in w]\n",
    "    string = \" \".join(w)\n",
    "    return string\n"
   ]
  },
  {
   "cell_type": "code",
   "execution_count": 29,
   "metadata": {},
   "outputs": [],
   "source": [
    "def prepare_data(csvfile):\n",
    "    file = pd.read_csv(csvfile)\n",
    "    cols = ['emotion_id', 'utterance']\n",
    "    file = file[cols]\n",
    "    file['utterance'] = [cleaner(sent) for sent in file['utterance']]\n",
    "    return file['utterance'], file['emotion_id']"
   ]
  },
  {
   "cell_type": "code",
   "execution_count": 28,
   "metadata": {},
   "outputs": [],
   "source": [
    "json_to_data('Project/DataSets/friends_dev.json', 'Project/DataSets/textDataDev.csv')"
   ]
  },
  {
   "cell_type": "code",
   "execution_count": 30,
   "metadata": {},
   "outputs": [
    {
     "name": "stdout",
     "output_type": "stream",
     "text": [
      "0             oh my god hes lost it hes totally lost it\n",
      "1                                                    what\n",
      "2       or or we could go to the bank close our accoun...\n",
      "3                                         youre a genius\n",
      "4                    aww man now we wont be bank buddies\n",
      "5                                 now theres two reasons\n",
      "6                                                     hey\n",
      "7                                                     hey\n",
      "8       ohh you guys remember that cute client i told ...\n",
      "9                                                   where\n",
      "10                                          on the touchy\n",
      "11                                                    and\n",
      "12                                              no i know\n",
      "13      i im sorry but the moment i touch him i just ...\n",
      "14      well next time your massaging him you should t...\n",
      "15      yeah yeah yeah like like when im doing someth...\n",
      "16                                         thank you joey\n",
      "17                                        no no thank you\n",
      "18                                     hey estelle listen\n",
      "19      well well well joey tribbiani so you came back...\n",
      "20      what are you talkin about i never left you yo...\n",
      "21                                                 really\n",
      "22                                                   yeah\n",
      "23                                oh well no harm no foul\n",
      "24                             okay you guys free tonight\n",
      "25                                                   yeah\n",
      "26      tonight you you didn't say it was going to be ...\n",
      "27                             yes yes how can i help you\n",
      "28               yeah we were we were just looking around\n",
      "29                    oh oh youre youre fellow scholars\n",
      "                              ...                        \n",
      "1148                                         yes yes i do\n",
      "1149                             god oh its just perfect\n",
      "1150                                                  wow\n",
      "1151             i bet it has a great story behind it too\n",
      "1152                           did they tell you anything\n",
      "1153                     like yknow where it was from or\n",
      "1154            yes that i know this is from white plains\n",
      "1155    white plains oh it sounds like such a magical ...\n",
      "1156      so you still dont think im boyfriend material\n",
      "1157                                                  huh\n",
      "1158    i saw you checking me out during the game last...\n",
      "1159                                        i umm shut up\n",
      "1160    good bye phoebe and ursula ill miss you ps y...\n",
      "1161    well its pretty much the gist well except for...\n",
      "1162                                                noooo\n",
      "1163                                    all right hang on\n",
      "1164    rachel its going to happen chandler is gonna ...\n",
      "1165                                                but i\n",
      "1166                                           no no wait\n",
      "1167                              just let me finish okay\n",
      "1168    this isnt something that we just we just impu...\n",
      "1169                                               and it\n",
      "1170                                         it is really\n",
      "1171                                         yeah sweetie\n",
      "1172    i mean were not were not gonna live together...\n",
      "1173                                                   no\n",
      "1174            what oh my god im gonna miss you so much\n",
      "1175                                   im gonna miss you\n",
      "1176                        i mean its the end of an era\n",
      "1177                                               i know\n",
      "Name: utterance, Length: 1178, dtype: object 0       3\n",
      "1       1\n",
      "2       0\n",
      "3       4\n",
      "4       5\n",
      "5       0\n",
      "6       0\n",
      "7       4\n",
      "8       0\n",
      "9       1\n",
      "10      0\n",
      "11      0\n",
      "12      1\n",
      "13      3\n",
      "14      0\n",
      "15      4\n",
      "16      0\n",
      "17      0\n",
      "18      0\n",
      "19      1\n",
      "20      1\n",
      "21      1\n",
      "22      4\n",
      "23      0\n",
      "24      0\n",
      "25      4\n",
      "26      1\n",
      "27      0\n",
      "28      0\n",
      "29      1\n",
      "       ..\n",
      "1148    0\n",
      "1149    4\n",
      "1150    4\n",
      "1151    4\n",
      "1152    0\n",
      "1153    0\n",
      "1154    4\n",
      "1155    4\n",
      "1156    3\n",
      "1157    0\n",
      "1158    0\n",
      "1159    6\n",
      "1160    3\n",
      "1161    0\n",
      "1162    3\n",
      "1163    0\n",
      "1164    0\n",
      "1165    3\n",
      "1166    0\n",
      "1167    3\n",
      "1168    0\n",
      "1169    0\n",
      "1170    1\n",
      "1171    0\n",
      "1172    5\n",
      "1173    5\n",
      "1174    5\n",
      "1175    5\n",
      "1176    5\n",
      "1177    5\n",
      "Name: emotion_id, Length: 1178, dtype: int64\n"
     ]
    }
   ],
   "source": [
    "X,Y = prepare_data('Project/DataSets/ProcessedDataDev.csv')\n",
    "print(X, Y)\n"
   ]
  },
  {
   "cell_type": "code",
   "execution_count": 14,
   "metadata": {},
   "outputs": [],
   "source": [
    "emotion_dictionary = {\n",
    "    0 : \"neutral\",\n",
    "    1 : \"surprise\",\n",
    "    2 : \"fear\",\n",
    "    3 : \"non-neutral\",\n",
    "    4 : \"joy\",\n",
    "    5 : \"sadness\",\n",
    "    6 : \"anger\",\n",
    "    7 : \"disgust\",\n",
    "}"
   ]
  },
  {
   "cell_type": "code",
   "execution_count": 31,
   "metadata": {},
   "outputs": [
    {
     "name": "stdout",
     "output_type": "stream",
     "text": [
      "<zip object at 0x7efeda6ba848>\n"
     ]
    }
   ],
   "source": [
    "print(zip(X, Y))\n",
    "f = csv.writer(open(\"Project/DataSets/CompProcessedDataDev.csv\", 'w'))\n",
    "f.writerow([\"emotion\",\"utterance\"])\n",
    "    \n",
    "for item in zip(Y,X):\n",
    "    f.writerow(item)"
   ]
  },
  {
   "cell_type": "code",
   "execution_count": null,
   "metadata": {},
   "outputs": [],
   "source": []
  }
 ],
 "metadata": {
  "kernelspec": {
   "display_name": "Python 3",
   "language": "python",
   "name": "python3"
  },
  "language_info": {
   "codemirror_mode": {
    "name": "ipython",
    "version": 3
   },
   "file_extension": ".py",
   "mimetype": "text/x-python",
   "name": "python",
   "nbconvert_exporter": "python",
   "pygments_lexer": "ipython3",
   "version": "3.6.7"
  }
 },
 "nbformat": 4,
 "nbformat_minor": 2
}
